{
 "cells": [
  {
   "cell_type": "code",
   "execution_count": 1,
   "id": "0e5723ff",
   "metadata": {},
   "outputs": [],
   "source": [
    "# Required libraries :\n",
    "# tensorflow\n",
    "# yfinance\n",
    "# matplotlib\n",
    "# pandas\n",
    "# numpy"
   ]
  },
  {
   "cell_type": "markdown",
   "id": "17edde9b",
   "metadata": {},
   "source": [
    "Install all the above mentioned libraries using <b>'pip'</b>. <br>\n",
    "For example to install <b>yfinance</b>, run : `pip install yfinance`    "
   ]
  },
  {
   "cell_type": "markdown",
   "id": "f302be5b",
   "metadata": {},
   "source": [
    "### Imports"
   ]
  },
  {
   "cell_type": "code",
   "execution_count": 2,
   "id": "ff5f48c7",
   "metadata": {},
   "outputs": [],
   "source": [
    "import numpy as np\n",
    "import pandas as pd\n",
    "import matplotlib.pyplot as plt\n",
    "import yfinance as yf\n",
    "from keras.layers import Dense, Dropout, LSTM\n",
    "from keras.models import Sequential\n",
    "from sklearn.preprocessing import MinMaxScaler"
   ]
  },
  {
   "cell_type": "markdown",
   "id": "c61288b7",
   "metadata": {},
   "source": [
    "### Deciding two things:\n",
    "1. the <b>dates</b> over which we want to collect the data\n",
    "2. the <b>stock symbol</b> for which we want to train the model"
   ]
  },
  {
   "cell_type": "code",
   "execution_count": 3,
   "id": "d48757d2",
   "metadata": {},
   "outputs": [],
   "source": [
    "# we chose the 'ITC' stock over the NSE market over a period of 10 years\n",
    "start = '2012-01-01'\n",
    "end = '2022-12-21'\n",
    "stock = 'ITC.NS' "
   ]
  },
  {
   "cell_type": "code",
   "execution_count": 4,
   "id": "5fcdab67",
   "metadata": {},
   "outputs": [
    {
     "name": "stdout",
     "output_type": "stream",
     "text": [
      "[*********************100%%**********************]  1 of 1 completed\n"
     ]
    }
   ],
   "source": [
    "#downloading the data\n",
    "data = yf.download(stock,start,end)"
   ]
  },
  {
   "cell_type": "markdown",
   "id": "50e564c1",
   "metadata": {},
   "source": [
    "### EDA"
   ]
  },
  {
   "cell_type": "code",
   "execution_count": 5,
   "id": "4808f187",
   "metadata": {
    "scrolled": false
   },
   "outputs": [
    {
     "data": {
      "text/html": [
       "<div>\n",
       "<style scoped>\n",
       "    .dataframe tbody tr th:only-of-type {\n",
       "        vertical-align: middle;\n",
       "    }\n",
       "\n",
       "    .dataframe tbody tr th {\n",
       "        vertical-align: top;\n",
       "    }\n",
       "\n",
       "    .dataframe thead th {\n",
       "        text-align: right;\n",
       "    }\n",
       "</style>\n",
       "<table border=\"1\" class=\"dataframe\">\n",
       "  <thead>\n",
       "    <tr style=\"text-align: right;\">\n",
       "      <th></th>\n",
       "      <th>Open</th>\n",
       "      <th>High</th>\n",
       "      <th>Low</th>\n",
       "      <th>Close</th>\n",
       "      <th>Adj Close</th>\n",
       "      <th>Volume</th>\n",
       "    </tr>\n",
       "    <tr>\n",
       "      <th>Date</th>\n",
       "      <th></th>\n",
       "      <th></th>\n",
       "      <th></th>\n",
       "      <th></th>\n",
       "      <th></th>\n",
       "      <th></th>\n",
       "    </tr>\n",
       "  </thead>\n",
       "  <tbody>\n",
       "    <tr>\n",
       "      <th>2020-09-09</th>\n",
       "      <td>185.500000</td>\n",
       "      <td>186.250000</td>\n",
       "      <td>182.300003</td>\n",
       "      <td>183.800003</td>\n",
       "      <td>163.231705</td>\n",
       "      <td>27829564</td>\n",
       "    </tr>\n",
       "    <tr>\n",
       "      <th>2014-02-12</th>\n",
       "      <td>217.000000</td>\n",
       "      <td>218.000000</td>\n",
       "      <td>212.666672</td>\n",
       "      <td>213.699997</td>\n",
       "      <td>163.939499</td>\n",
       "      <td>9120990</td>\n",
       "    </tr>\n",
       "    <tr>\n",
       "      <th>2021-07-27</th>\n",
       "      <td>212.000000</td>\n",
       "      <td>213.000000</td>\n",
       "      <td>207.949997</td>\n",
       "      <td>208.649994</td>\n",
       "      <td>194.968521</td>\n",
       "      <td>24436949</td>\n",
       "    </tr>\n",
       "    <tr>\n",
       "      <th>2019-03-19</th>\n",
       "      <td>294.600006</td>\n",
       "      <td>300.000000</td>\n",
       "      <td>293.350006</td>\n",
       "      <td>299.450012</td>\n",
       "      <td>248.179947</td>\n",
       "      <td>15756420</td>\n",
       "    </tr>\n",
       "    <tr>\n",
       "      <th>2014-10-17</th>\n",
       "      <td>234.600006</td>\n",
       "      <td>239.933334</td>\n",
       "      <td>234.233337</td>\n",
       "      <td>235.966660</td>\n",
       "      <td>184.306137</td>\n",
       "      <td>11275146</td>\n",
       "    </tr>\n",
       "    <tr>\n",
       "      <th>2012-05-10</th>\n",
       "      <td>160.933334</td>\n",
       "      <td>162.266663</td>\n",
       "      <td>157.566666</td>\n",
       "      <td>159.500000</td>\n",
       "      <td>118.279137</td>\n",
       "      <td>9774754</td>\n",
       "    </tr>\n",
       "    <tr>\n",
       "      <th>2012-03-28</th>\n",
       "      <td>150.666672</td>\n",
       "      <td>151.933334</td>\n",
       "      <td>149.733337</td>\n",
       "      <td>151.199997</td>\n",
       "      <td>112.124161</td>\n",
       "      <td>8839632</td>\n",
       "    </tr>\n",
       "    <tr>\n",
       "      <th>2018-03-27</th>\n",
       "      <td>258.799988</td>\n",
       "      <td>260.500000</td>\n",
       "      <td>256.899994</td>\n",
       "      <td>258.899994</td>\n",
       "      <td>210.552094</td>\n",
       "      <td>8769415</td>\n",
       "    </tr>\n",
       "    <tr>\n",
       "      <th>2012-12-07</th>\n",
       "      <td>200.500000</td>\n",
       "      <td>202.000000</td>\n",
       "      <td>199.233337</td>\n",
       "      <td>201.000000</td>\n",
       "      <td>151.911835</td>\n",
       "      <td>5125983</td>\n",
       "    </tr>\n",
       "    <tr>\n",
       "      <th>2021-07-16</th>\n",
       "      <td>207.699997</td>\n",
       "      <td>209.649994</td>\n",
       "      <td>207.199997</td>\n",
       "      <td>207.899994</td>\n",
       "      <td>194.267685</td>\n",
       "      <td>29019824</td>\n",
       "    </tr>\n",
       "  </tbody>\n",
       "</table>\n",
       "</div>"
      ],
      "text/plain": [
       "                  Open        High         Low       Close   Adj Close  \\\n",
       "Date                                                                     \n",
       "2020-09-09  185.500000  186.250000  182.300003  183.800003  163.231705   \n",
       "2014-02-12  217.000000  218.000000  212.666672  213.699997  163.939499   \n",
       "2021-07-27  212.000000  213.000000  207.949997  208.649994  194.968521   \n",
       "2019-03-19  294.600006  300.000000  293.350006  299.450012  248.179947   \n",
       "2014-10-17  234.600006  239.933334  234.233337  235.966660  184.306137   \n",
       "2012-05-10  160.933334  162.266663  157.566666  159.500000  118.279137   \n",
       "2012-03-28  150.666672  151.933334  149.733337  151.199997  112.124161   \n",
       "2018-03-27  258.799988  260.500000  256.899994  258.899994  210.552094   \n",
       "2012-12-07  200.500000  202.000000  199.233337  201.000000  151.911835   \n",
       "2021-07-16  207.699997  209.649994  207.199997  207.899994  194.267685   \n",
       "\n",
       "              Volume  \n",
       "Date                  \n",
       "2020-09-09  27829564  \n",
       "2014-02-12   9120990  \n",
       "2021-07-27  24436949  \n",
       "2019-03-19  15756420  \n",
       "2014-10-17  11275146  \n",
       "2012-05-10   9774754  \n",
       "2012-03-28   8839632  \n",
       "2018-03-27   8769415  \n",
       "2012-12-07   5125983  \n",
       "2021-07-16  29019824  "
      ]
     },
     "execution_count": 5,
     "metadata": {},
     "output_type": "execute_result"
    }
   ],
   "source": [
    "# create a new pandas dataframe using the data received from yfinance\n",
    "prices = pd.DataFrame(data)\n",
    "prices.sample(10)"
   ]
  },
  {
   "cell_type": "code",
   "execution_count": 6,
   "id": "d83664c1",
   "metadata": {},
   "outputs": [
    {
     "data": {
      "text/plain": [
       "Open         0\n",
       "High         0\n",
       "Low          0\n",
       "Close        0\n",
       "Adj Close    0\n",
       "Volume       0\n",
       "dtype: int64"
      ]
     },
     "execution_count": 6,
     "metadata": {},
     "output_type": "execute_result"
    }
   ],
   "source": [
    "#checking null values\n",
    "prices.isnull().sum()"
   ]
  },
  {
   "cell_type": "code",
   "execution_count": 7,
   "id": "43af5cff",
   "metadata": {},
   "outputs": [
    {
     "data": {
      "text/plain": [
       "(2705, 6)"
      ]
     },
     "execution_count": 7,
     "metadata": {},
     "output_type": "execute_result"
    }
   ],
   "source": [
    "prices.shape"
   ]
  },
  {
   "cell_type": "code",
   "execution_count": 8,
   "id": "637f8013",
   "metadata": {},
   "outputs": [],
   "source": [
    "#add a new row to indicate the indeces\n",
    "prices.reset_index(inplace=True)"
   ]
  },
  {
   "cell_type": "code",
   "execution_count": 9,
   "id": "937961a9",
   "metadata": {
    "scrolled": true
   },
   "outputs": [
    {
     "data": {
      "text/html": [
       "<div>\n",
       "<style scoped>\n",
       "    .dataframe tbody tr th:only-of-type {\n",
       "        vertical-align: middle;\n",
       "    }\n",
       "\n",
       "    .dataframe tbody tr th {\n",
       "        vertical-align: top;\n",
       "    }\n",
       "\n",
       "    .dataframe thead th {\n",
       "        text-align: right;\n",
       "    }\n",
       "</style>\n",
       "<table border=\"1\" class=\"dataframe\">\n",
       "  <thead>\n",
       "    <tr style=\"text-align: right;\">\n",
       "      <th></th>\n",
       "      <th>Date</th>\n",
       "      <th>Open</th>\n",
       "      <th>High</th>\n",
       "      <th>Low</th>\n",
       "      <th>Close</th>\n",
       "      <th>Adj Close</th>\n",
       "      <th>Volume</th>\n",
       "    </tr>\n",
       "  </thead>\n",
       "  <tbody>\n",
       "    <tr>\n",
       "      <th>2157</th>\n",
       "      <td>2020-10-07</td>\n",
       "      <td>170.000000</td>\n",
       "      <td>170.899994</td>\n",
       "      <td>169.000000</td>\n",
       "      <td>169.500000</td>\n",
       "      <td>150.531952</td>\n",
       "      <td>16286540</td>\n",
       "    </tr>\n",
       "    <tr>\n",
       "      <th>1448</th>\n",
       "      <td>2017-11-20</td>\n",
       "      <td>258.600006</td>\n",
       "      <td>260.700012</td>\n",
       "      <td>257.250000</td>\n",
       "      <td>259.200012</td>\n",
       "      <td>210.796097</td>\n",
       "      <td>7916268</td>\n",
       "    </tr>\n",
       "    <tr>\n",
       "      <th>1649</th>\n",
       "      <td>2018-09-10</td>\n",
       "      <td>310.200012</td>\n",
       "      <td>310.750000</td>\n",
       "      <td>305.549988</td>\n",
       "      <td>306.549988</td>\n",
       "      <td>254.064316</td>\n",
       "      <td>9635849</td>\n",
       "    </tr>\n",
       "    <tr>\n",
       "      <th>2317</th>\n",
       "      <td>2021-06-01</td>\n",
       "      <td>218.000000</td>\n",
       "      <td>219.399994</td>\n",
       "      <td>214.250000</td>\n",
       "      <td>215.250000</td>\n",
       "      <td>195.693253</td>\n",
       "      <td>38755111</td>\n",
       "    </tr>\n",
       "    <tr>\n",
       "      <th>2042</th>\n",
       "      <td>2020-04-24</td>\n",
       "      <td>181.000000</td>\n",
       "      <td>182.800003</td>\n",
       "      <td>179.300003</td>\n",
       "      <td>180.050003</td>\n",
       "      <td>152.081573</td>\n",
       "      <td>18049697</td>\n",
       "    </tr>\n",
       "    <tr>\n",
       "      <th>1966</th>\n",
       "      <td>2020-01-01</td>\n",
       "      <td>238.600006</td>\n",
       "      <td>238.600006</td>\n",
       "      <td>237.100006</td>\n",
       "      <td>238.100006</td>\n",
       "      <td>201.114243</td>\n",
       "      <td>4208837</td>\n",
       "    </tr>\n",
       "    <tr>\n",
       "      <th>359</th>\n",
       "      <td>2013-06-17</td>\n",
       "      <td>221.866669</td>\n",
       "      <td>221.866669</td>\n",
       "      <td>217.399994</td>\n",
       "      <td>221.233337</td>\n",
       "      <td>169.718674</td>\n",
       "      <td>5108967</td>\n",
       "    </tr>\n",
       "    <tr>\n",
       "      <th>2484</th>\n",
       "      <td>2022-01-31</td>\n",
       "      <td>218.500000</td>\n",
       "      <td>220.750000</td>\n",
       "      <td>217.100006</td>\n",
       "      <td>220.199997</td>\n",
       "      <td>205.761169</td>\n",
       "      <td>15039006</td>\n",
       "    </tr>\n",
       "    <tr>\n",
       "      <th>1159</th>\n",
       "      <td>2016-09-20</td>\n",
       "      <td>259.200012</td>\n",
       "      <td>259.250000</td>\n",
       "      <td>255.250000</td>\n",
       "      <td>256.950012</td>\n",
       "      <td>205.856644</td>\n",
       "      <td>6686674</td>\n",
       "    </tr>\n",
       "    <tr>\n",
       "      <th>1061</th>\n",
       "      <td>2016-04-29</td>\n",
       "      <td>215.433334</td>\n",
       "      <td>217.399994</td>\n",
       "      <td>213.399994</td>\n",
       "      <td>216.633331</td>\n",
       "      <td>172.590652</td>\n",
       "      <td>10331436</td>\n",
       "    </tr>\n",
       "  </tbody>\n",
       "</table>\n",
       "</div>"
      ],
      "text/plain": [
       "           Date        Open        High         Low       Close   Adj Close  \\\n",
       "2157 2020-10-07  170.000000  170.899994  169.000000  169.500000  150.531952   \n",
       "1448 2017-11-20  258.600006  260.700012  257.250000  259.200012  210.796097   \n",
       "1649 2018-09-10  310.200012  310.750000  305.549988  306.549988  254.064316   \n",
       "2317 2021-06-01  218.000000  219.399994  214.250000  215.250000  195.693253   \n",
       "2042 2020-04-24  181.000000  182.800003  179.300003  180.050003  152.081573   \n",
       "1966 2020-01-01  238.600006  238.600006  237.100006  238.100006  201.114243   \n",
       "359  2013-06-17  221.866669  221.866669  217.399994  221.233337  169.718674   \n",
       "2484 2022-01-31  218.500000  220.750000  217.100006  220.199997  205.761169   \n",
       "1159 2016-09-20  259.200012  259.250000  255.250000  256.950012  205.856644   \n",
       "1061 2016-04-29  215.433334  217.399994  213.399994  216.633331  172.590652   \n",
       "\n",
       "        Volume  \n",
       "2157  16286540  \n",
       "1448   7916268  \n",
       "1649   9635849  \n",
       "2317  38755111  \n",
       "2042  18049697  \n",
       "1966   4208837  \n",
       "359    5108967  \n",
       "2484  15039006  \n",
       "1159   6686674  \n",
       "1061  10331436  "
      ]
     },
     "execution_count": 9,
     "metadata": {},
     "output_type": "execute_result"
    }
   ],
   "source": [
    "prices.sample(10)"
   ]
  },
  {
   "cell_type": "code",
   "execution_count": 10,
   "id": "540660b6",
   "metadata": {},
   "outputs": [
    {
     "data": {
      "text/plain": [
       "(2705, 7)"
      ]
     },
     "execution_count": 10,
     "metadata": {},
     "output_type": "execute_result"
    }
   ],
   "source": [
    "prices.shape"
   ]
  },
  {
   "cell_type": "markdown",
   "id": "0f4ddf6d",
   "metadata": {},
   "source": [
    "as we can see, a new column has been added and the <b>shape[1]</b> increased from *6* to *7*"
   ]
  },
  {
   "cell_type": "markdown",
   "id": "dde275fd",
   "metadata": {},
   "source": [
    "### Prediction strategy\n",
    "Our model will be trained to predict the price of a particular stock using the <b>moving average</b> of the same for the past *100* days.<br>\n",
    "This implies that the fluctuations in the last *100* days of the price will be studied and the price for the *101*st day will be predicted using that."
   ]
  },
  {
   "cell_type": "markdown",
   "id": "df2a2512",
   "metadata": {},
   "source": [
    "### Plotting the moving averages"
   ]
  },
  {
   "cell_type": "code",
   "execution_count": 11,
   "id": "aefc3546",
   "metadata": {},
   "outputs": [],
   "source": [
    "#calculating the moving average using rolling() function and finding the mean over a period of 100 days (window size =100)\n",
    "ma_100=prices.Close.rolling(100).mean()"
   ]
  },
  {
   "cell_type": "code",
   "execution_count": 12,
   "id": "ae8b4403",
   "metadata": {},
   "outputs": [
    {
     "data": {
      "image/png": "[encoded data removed]",
      "text/plain": [
       "<Figure size 800x400 with 1 Axes>"
      ]
     },
     "metadata": {},
     "output_type": "display_data"
    }
   ],
   "source": [
    "plt.figure(figsize=(8,4))\n",
    "plt.plot(ma_100,'r')\n",
    "plt.plot(prices['Close'],'b')\n",
    "plt.ylabel(\"Price (in Rupees)\")\n",
    "plt.xlabel(\"Days\")\n",
    "plt.show()"
   ]
  },
  {
   "cell_type": "code",
   "execution_count": 13,
   "id": "b5b784c1",
   "metadata": {},
   "outputs": [],
   "source": [
    "#Calculating the moving average of 200 days\n",
    "ma_200= prices['Close'].rolling(200).mean()"
   ]
  },
  {
   "cell_type": "code",
   "execution_count": 14,
   "id": "3b9bc362",
   "metadata": {},
   "outputs": [
    {
     "data": {
      "image/png": "[encoded data removed]",
      "text/plain": [
       "<Figure size 800x400 with 1 Axes>"
      ]
     },
     "metadata": {},
     "output_type": "display_data"
    }
   ],
   "source": [
    "plt.figure(figsize=(8,4))\n",
    "plt.plot(ma_100,'b')\n",
    "plt.plot(ma_200,'r')\n",
    "plt.plot(prices['Close'],'g')\n",
    "plt.ylabel(\"Price (in Rupees)\")\n",
    "plt.xlabel(\"Days\")\n",
    "plt.show()"
   ]
  },
  {
   "cell_type": "markdown",
   "id": "5975d23d",
   "metadata": {},
   "source": [
    "### Splitting the dataset into training and testing"
   ]
  },
  {
   "cell_type": "code",
   "execution_count": 15,
   "id": "44971682",
   "metadata": {},
   "outputs": [],
   "source": [
    "#adding the first 80% of the data values into training set and the rest 20% into test set\n",
    "data_train = prices['Close'][0:int(len(prices)*0.80)]\n",
    "data_test = prices['Close'][int(len(prices)*0.80):len(prices)]"
   ]
  },
  {
   "cell_type": "code",
   "execution_count": 16,
   "id": "ccd927c0",
   "metadata": {},
   "outputs": [
    {
     "data": {
      "text/plain": [
       "0    132.433334\n",
       "1    133.566666\n",
       "2    133.033340\n",
       "3    133.199997\n",
       "4    134.733337\n",
       "Name: Close, dtype: float64"
      ]
     },
     "execution_count": 16,
     "metadata": {},
     "output_type": "execute_result"
    }
   ],
   "source": [
    "#viewing the first 5 values of the \n",
    "data_train.head()"
   ]
  },
  {
   "cell_type": "code",
   "execution_count": 17,
   "id": "ef25d99b",
   "metadata": {},
   "outputs": [
    {
     "data": {
      "text/plain": [
       "2164    165.699997\n",
       "2165    168.250000\n",
       "2166    167.449997\n",
       "2167    167.649994\n",
       "2168    168.550003\n",
       "Name: Close, dtype: float64"
      ]
     },
     "execution_count": 17,
     "metadata": {},
     "output_type": "execute_result"
    }
   ],
   "source": [
    "data_test.head()"
   ]
  },
  {
   "cell_type": "code",
   "execution_count": 18,
   "id": "00904f75",
   "metadata": {},
   "outputs": [
    {
     "name": "stdout",
     "output_type": "stream",
     "text": [
      "(2164,) (541,)\n"
     ]
    }
   ],
   "source": [
    "print(data_train.shape,data_test.shape)"
   ]
  },
  {
   "cell_type": "code",
   "execution_count": 19,
   "id": "81a0d372",
   "metadata": {},
   "outputs": [],
   "source": [
    "#scaling down the training and test set values to lie b/w 0 and 1\n",
    "scaler = MinMaxScaler(feature_range=(0,1))"
   ]
  },
  {
   "cell_type": "code",
   "execution_count": 20,
   "id": "9fbca186",
   "metadata": {},
   "outputs": [
    {
     "data": {
      "text/plain": [
       "array([[132.43333435],\n",
       "       [133.56666565],\n",
       "       [133.03334045],\n",
       "       ...,\n",
       "       [170.1499939 ],\n",
       "       [167.80000305],\n",
       "       [165.05000305]])"
      ]
     },
     "execution_count": 20,
     "metadata": {},
     "output_type": "execute_result"
    }
   ],
   "source": [
    "#reshaping the training dataset to form a 2d array\n",
    "data_train = np.array(data_train)\n",
    "data_train=data_train.reshape(-1,1)\n",
    "data_train"
   ]
  },
  {
   "cell_type": "code",
   "execution_count": 21,
   "id": "2e3ab7c8",
   "metadata": {},
   "outputs": [],
   "source": [
    "data_train_scale = scaler.fit_transform(data_train)"
   ]
  },
  {
   "cell_type": "code",
   "execution_count": 22,
   "id": "d6f3e21e",
   "metadata": {},
   "outputs": [
    {
     "data": {
      "text/plain": [
       "array([[0.        ],\n",
       "       [0.0053951 ],\n",
       "       [0.00285627],\n",
       "       ...,\n",
       "       [0.17954614],\n",
       "       [0.16835926],\n",
       "       [0.15526818]])"
      ]
     },
     "execution_count": 22,
     "metadata": {},
     "output_type": "execute_result"
    }
   ],
   "source": [
    "data_train_scale"
   ]
  },
  {
   "cell_type": "code",
   "execution_count": 23,
   "id": "70356065",
   "metadata": {},
   "outputs": [
    {
     "data": {
      "text/plain": [
       "array([[165.69999695],\n",
       "       [168.25      ],\n",
       "       [167.44999695],\n",
       "       [167.6499939 ],\n",
       "       [168.55000305],\n",
       "       [170.75      ],\n",
       "       [168.55000305],\n",
       "       [167.19999695],\n",
       "       [165.5       ],\n",
       "       [163.8500061 ]])"
      ]
     },
     "execution_count": 23,
     "metadata": {},
     "output_type": "execute_result"
    }
   ],
   "source": [
    "data_test = np.array(data_test)\n",
    "data_test = data_test.reshape(-1,1)\n",
    "data_test[:10]"
   ]
  },
  {
   "cell_type": "code",
   "execution_count": 24,
   "id": "aac148b2",
   "metadata": {},
   "outputs": [],
   "source": [
    "data_test_scale = scaler.fit_transform(data_test)"
   ]
  },
  {
   "cell_type": "code",
   "execution_count": 25,
   "id": "867b6cd5",
   "metadata": {
    "scrolled": true
   },
   "outputs": [
    {
     "data": {
      "text/plain": [
       "array([[0.00711198],\n",
       "       [0.014732  ],\n",
       "       [0.03175006],\n",
       "       [0.03022604],\n",
       "       [0.05537208],\n",
       "       [0.05130805],\n",
       "       [0.04546607],\n",
       "       [0.07366015],\n",
       "       [0.1089662 ],\n",
       "       [0.12268221]])"
      ]
     },
     "execution_count": 25,
     "metadata": {},
     "output_type": "execute_result"
    }
   ],
   "source": [
    "data_test_scale[10:20]"
   ]
  },
  {
   "cell_type": "markdown",
   "id": "7c10cc37",
   "metadata": {},
   "source": [
    "we take the data from past 100 days each time to predict the price of stock for the 101th day"
   ]
  },
  {
   "cell_type": "code",
   "execution_count": 26,
   "id": "41268b97",
   "metadata": {},
   "outputs": [],
   "source": [
    "x=[]\n",
    "y=[]\n",
    "for i in range(100,data_train_scale.shape[0]):\n",
    "    x.append(data_train_scale[i-100:i])\n",
    "    y.append(data_train_scale[i,0])"
   ]
  },
  {
   "cell_type": "code",
   "execution_count": 27,
   "id": "228df65a",
   "metadata": {},
   "outputs": [],
   "source": [
    "#converting the input features into numpy arrays\n",
    "x= np.array(x)\n",
    "y= np.array(y)"
   ]
  },
  {
   "cell_type": "markdown",
   "id": "2491053e",
   "metadata": {},
   "source": [
    "### Model Creation"
   ]
  },
  {
   "cell_type": "markdown",
   "id": "529a3856",
   "metadata": {},
   "source": [
    "A <b>Sequential</b> object can be used to group several layers of a neural network and group them together instead of individually creating every single layer and implementing it in the code."
   ]
  },
  {
   "cell_type": "code",
   "execution_count": 28,
   "id": "b9b3fe61",
   "metadata": {},
   "outputs": [],
   "source": [
    "#Creating a Sequential object\n",
    "model = Sequential()\n",
    "model.add(LSTM(units=50, activation='relu',return_sequences= True, input_shape=((x.shape[1],1))))\n",
    "model.add(Dropout(0.2))\n",
    "\n",
    "model.add(LSTM(units=60, activation='relu',return_sequences= True))\n",
    "model.add(Dropout(0.3))\n",
    "\n",
    "model.add(LSTM(units=80, activation='relu',return_sequences= True))\n",
    "model.add(Dropout(0.4))\n",
    "\n",
    "model.add(LSTM(units=120, activation='relu'))\n",
    "model.add(Dropout(0.5))\n",
    "\n",
    "model.add(Dense(units=1))"
   ]
  },
  {
   "cell_type": "code",
   "execution_count": 29,
   "id": "6d4c2e16",
   "metadata": {},
   "outputs": [],
   "source": [
    "model.compile(optimizer='adam', loss='mean_squared_error')"
   ]
  },
  {
   "cell_type": "code",
   "execution_count": 30,
   "id": "9e5f1f7b",
   "metadata": {
    "scrolled": true
   },
   "outputs": [
    {
     "name": "stdout",
     "output_type": "stream",
     "text": [
      "Epoch 1/50\n",
      "65/65 [==============================] - 12s 132ms/step - loss: 0.0488\n",
      "Epoch 2/50\n",
      "65/65 [==============================] - 8s 119ms/step - loss: 0.0104\n",
      "Epoch 3/50\n",
      "65/65 [==============================] - 8s 116ms/step - loss: 0.0101\n",
      "Epoch 4/50\n",
      "65/65 [==============================] - 8s 118ms/step - loss: 0.0094\n",
      "Epoch 5/50\n",
      "65/65 [==============================] - 8s 116ms/step - loss: 0.0077\n",
      "Epoch 6/50\n",
      "65/65 [==============================] - 8s 120ms/step - loss: 0.0079\n",
      "Epoch 7/50\n",
      "65/65 [==============================] - 8s 117ms/step - loss: 0.0080\n",
      "Epoch 8/50\n",
      "65/65 [==============================] - 8s 122ms/step - loss: 0.0068\n",
      "Epoch 9/50\n",
      "65/65 [==============================] - 8s 118ms/step - loss: 0.0064\n",
      "Epoch 10/50\n",
      "65/65 [==============================] - 8s 118ms/step - loss: 0.0060\n",
      "Epoch 11/50\n",
      "65/65 [==============================] - 8s 116ms/step - loss: 0.0061\n",
      "Epoch 12/50\n",
      "65/65 [==============================] - 8s 118ms/step - loss: 0.0060\n",
      "Epoch 13/50\n",
      "65/65 [==============================] - 8s 117ms/step - loss: 0.0057\n",
      "Epoch 14/50\n",
      "65/65 [==============================] - 8s 120ms/step - loss: 0.0054\n",
      "Epoch 15/50\n",
      "65/65 [==============================] - 8s 117ms/step - loss: 0.0056\n",
      "Epoch 16/50\n",
      "65/65 [==============================] - 8s 124ms/step - loss: 0.0050\n",
      "Epoch 17/50\n",
      "65/65 [==============================] - 8s 120ms/step - loss: 0.0050\n",
      "Epoch 18/50\n",
      "65/65 [==============================] - 8s 119ms/step - loss: 0.0047\n",
      "Epoch 19/50\n",
      "65/65 [==============================] - 8s 120ms/step - loss: 0.0045\n",
      "Epoch 20/50\n",
      "65/65 [==============================] - 8s 121ms/step - loss: 0.0039\n",
      "Epoch 21/50\n",
      "65/65 [==============================] - 8s 119ms/step - loss: 0.0043\n",
      "Epoch 22/50\n",
      "65/65 [==============================] - 8s 121ms/step - loss: 0.0038\n",
      "Epoch 23/50\n",
      "65/65 [==============================] - 8s 119ms/step - loss: 0.0037\n",
      "Epoch 24/50\n",
      "65/65 [==============================] - 8s 122ms/step - loss: 0.0039\n",
      "Epoch 25/50\n",
      "65/65 [==============================] - 8s 119ms/step - loss: 0.0037\n",
      "Epoch 26/50\n",
      "65/65 [==============================] - 8s 119ms/step - loss: 0.0038\n",
      "Epoch 27/50\n",
      "65/65 [==============================] - 8s 119ms/step - loss: 0.0034\n",
      "Epoch 28/50\n",
      "65/65 [==============================] - 8s 119ms/step - loss: 0.0033\n",
      "Epoch 29/50\n",
      "65/65 [==============================] - 8s 129ms/step - loss: 0.0034\n",
      "Epoch 30/50\n",
      "65/65 [==============================] - 8s 120ms/step - loss: 0.0031\n",
      "Epoch 31/50\n",
      "65/65 [==============================] - 8s 120ms/step - loss: 0.0030\n",
      "Epoch 32/50\n",
      "65/65 [==============================] - 8s 130ms/step - loss: 0.0031\n",
      "Epoch 33/50\n",
      "65/65 [==============================] - 8s 120ms/step - loss: 0.0029\n",
      "Epoch 34/50\n",
      "65/65 [==============================] - 8s 121ms/step - loss: 0.0027\n",
      "Epoch 35/50\n",
      "65/65 [==============================] - 8s 122ms/step - loss: 0.0028\n",
      "Epoch 36/50\n",
      "65/65 [==============================] - 9s 133ms/step - loss: 0.0026\n",
      "Epoch 37/50\n",
      "65/65 [==============================] - 8s 115ms/step - loss: 0.0028\n",
      "Epoch 38/50\n",
      "65/65 [==============================] - 8s 117ms/step - loss: 0.0026\n",
      "Epoch 39/50\n",
      "65/65 [==============================] - 8s 116ms/step - loss: 0.0024\n",
      "Epoch 40/50\n",
      "65/65 [==============================] - 7s 115ms/step - loss: 0.0025\n",
      "Epoch 41/50\n",
      "65/65 [==============================] - 8s 128ms/step - loss: 0.0024\n",
      "Epoch 42/50\n",
      "65/65 [==============================] - 8s 117ms/step - loss: 0.0023\n",
      "Epoch 43/50\n",
      "65/65 [==============================] - 8s 118ms/step - loss: 0.0022\n",
      "Epoch 44/50\n",
      "65/65 [==============================] - 8s 118ms/step - loss: 0.0022\n",
      "Epoch 45/50\n",
      "65/65 [==============================] - 8s 119ms/step - loss: 0.0022\n",
      "Epoch 46/50\n",
      "65/65 [==============================] - 8s 116ms/step - loss: 0.0022\n",
      "Epoch 47/50\n",
      "65/65 [==============================] - 8s 117ms/step - loss: 0.0023\n",
      "Epoch 48/50\n",
      "65/65 [==============================] - 7s 115ms/step - loss: 0.0022\n",
      "Epoch 49/50\n",
      "65/65 [==============================] - 8s 118ms/step - loss: 0.0023\n",
      "Epoch 50/50\n",
      "65/65 [==============================] - 7s 115ms/step - loss: 0.0023\n"
     ]
    },
    {
     "data": {
      "text/plain": [
       "<keras.src.callbacks.History at 0x1ea1ec3ac90>"
      ]
     },
     "execution_count": 30,
     "metadata": {},
     "output_type": "execute_result"
    }
   ],
   "source": [
    "model.fit(x,y,epochs=50,batch_size=32, verbose=1)"
   ]
  },
  {
   "cell_type": "code",
   "execution_count": 31,
   "id": "352727e3",
   "metadata": {},
   "outputs": [
    {
     "name": "stdout",
     "output_type": "stream",
     "text": [
      "Model: \"sequential\"\n",
      "_________________________________________________________________\n",
      " Layer (type)                Output Shape              Param #   \n",
      "=================================================================\n",
      " lstm (LSTM)                 (None, 100, 50)           10400     \n",
      "                                                                 \n",
      " dropout (Dropout)           (None, 100, 50)           0         \n",
      "                                                                 \n",
      " lstm_1 (LSTM)               (None, 100, 60)           26640     \n",
      "                                                                 \n",
      " dropout_1 (Dropout)         (None, 100, 60)           0         \n",
      "                                                                 \n",
      " lstm_2 (LSTM)               (None, 100, 80)           45120     \n",
      "                                                                 \n",
      " dropout_2 (Dropout)         (None, 100, 80)           0         \n",
      "                                                                 \n",
      " lstm_3 (LSTM)               (None, 120)               96480     \n",
      "                                                                 \n",
      " dropout_3 (Dropout)         (None, 120)               0         \n",
      "                                                                 \n",
      " dense (Dense)               (None, 1)                 121       \n",
      "                                                                 \n",
      "=================================================================\n",
      "Total params: 178761 (698.29 KB)\n",
      "Trainable params: 178761 (698.29 KB)\n",
      "Non-trainable params: 0 (0.00 Byte)\n",
      "_________________________________________________________________\n"
     ]
    }
   ],
   "source": [
    "#model's summary\n",
    "model.summary()"
   ]
  },
  {
   "cell_type": "markdown",
   "id": "0e99929d",
   "metadata": {},
   "source": [
    "### Evaluation of model"
   ]
  },
  {
   "cell_type": "markdown",
   "id": "e7eb0df8",
   "metadata": {},
   "source": [
    "We predict the closing price of a stock for nth day using the data for the last n-100 days. So we need to add the last *100* rows from the training dataset into the test dataset to evaluate the values after that and so on and so forth"
   ]
  },
  {
   "cell_type": "code",
   "execution_count": 32,
   "id": "f4c1d202",
   "metadata": {
    "scrolled": true
   },
   "outputs": [],
   "source": [
    "#converting np array into pd dataframe and finding the last 100 rows\n",
    "last_100_days = (pd.DataFrame(data_train_scale)).tail(100)"
   ]
  },
  {
   "cell_type": "code",
   "execution_count": 33,
   "id": "42fdbb86",
   "metadata": {},
   "outputs": [],
   "source": [
    "#concatenating the 'last 100 days' rows with the data_test_scale dataset\n",
    "data_test_scale = pd.concat([last_100_days,pd.DataFrame(data_test_scale)],ignore_index=True)"
   ]
  },
  {
   "cell_type": "code",
   "execution_count": 34,
   "id": "8d38af9e",
   "metadata": {},
   "outputs": [
    {
     "data": {
      "text/plain": [
       "array([[0.27713421],\n",
       "       [0.30902891],\n",
       "       [0.32426215],\n",
       "       [0.30855284],\n",
       "       [0.30593461],\n",
       "       [0.32235795],\n",
       "       [0.32164392],\n",
       "       [0.31045697],\n",
       "       [0.31450333],\n",
       "       [0.31712156]])"
      ]
     },
     "execution_count": 34,
     "metadata": {},
     "output_type": "execute_result"
    }
   ],
   "source": [
    "data_test_scale= np.array(data_test_scale).reshape(-1,1)\n",
    "data_test_scale[:10]"
   ]
  },
  {
   "cell_type": "code",
   "execution_count": 35,
   "id": "2c39ca2f",
   "metadata": {},
   "outputs": [],
   "source": [
    "#appending the last 100 days data into a list to feed to the model\n",
    "x=[]\n",
    "y=[]\n",
    "for i in range(100,data_test_scale.shape[0]):\n",
    "    x.append(data_test_scale[i-100:i])\n",
    "    y.append(data_test_scale[i,0])"
   ]
  },
  {
   "cell_type": "code",
   "execution_count": 36,
   "id": "d7a431bd",
   "metadata": {},
   "outputs": [],
   "source": [
    "# converting the lists into numpy arrays\n",
    "x= np.array(x)\n",
    "y= np.array(y)"
   ]
  },
  {
   "cell_type": "code",
   "execution_count": 37,
   "id": "2bed18c3",
   "metadata": {},
   "outputs": [
    {
     "name": "stdout",
     "output_type": "stream",
     "text": [
      "17/17 [==============================] - 1s 39ms/step\n"
     ]
    }
   ],
   "source": [
    "#feeding the data into the model to make predictions\n",
    "y_predicted = model.predict(x)"
   ]
  },
  {
   "cell_type": "code",
   "execution_count": 38,
   "id": "341664fb",
   "metadata": {},
   "outputs": [
    {
     "data": {
      "text/plain": [
       "array([[0.20378989],\n",
       "       [0.19750375],\n",
       "       [0.18466267],\n",
       "       [0.1653883 ],\n",
       "       [0.14241484],\n",
       "       [0.12009108],\n",
       "       [0.10285082],\n",
       "       [0.09267643],\n",
       "       [0.08903837],\n",
       "       [0.08973479]], dtype=float32)"
      ]
     },
     "execution_count": 38,
     "metadata": {},
     "output_type": "execute_result"
    }
   ],
   "source": [
    "#printing the first 10 predictions\n",
    "y_predicted[:10]"
   ]
  },
  {
   "cell_type": "code",
   "execution_count": 39,
   "id": "96a1e6d5",
   "metadata": {},
   "outputs": [],
   "source": [
    "#converting the predicted values back to the original prices\n",
    "y_predicted=y_predicted*(1/scaler.scale_)"
   ]
  },
  {
   "cell_type": "code",
   "execution_count": 40,
   "id": "cb42ecdd",
   "metadata": {},
   "outputs": [
    {
     "data": {
      "text/plain": [
       "array([[40.11604105],\n",
       "       [38.87861352],\n",
       "       [36.3508477 ],\n",
       "       [32.55668806],\n",
       "       [28.03436174],\n",
       "       [23.63992996],\n",
       "       [20.24618545],\n",
       "       [18.243356  ],\n",
       "       [17.52720408],\n",
       "       [17.66429449]])"
      ]
     },
     "execution_count": 40,
     "metadata": {},
     "output_type": "execute_result"
    }
   ],
   "source": [
    "#printing the first 10 predicted values\n",
    "y_predicted[:10]"
   ]
  },
  {
   "cell_type": "code",
   "execution_count": 41,
   "id": "e09073c7",
   "metadata": {},
   "outputs": [],
   "source": [
    "#converting back the actual values\n",
    "y = y*(1/scaler.scale_)"
   ]
  },
  {
   "cell_type": "code",
   "execution_count": 42,
   "id": "5e7f73e6",
   "metadata": {},
   "outputs": [
    {
     "data": {
      "image/png": "[encoded data removed]",
      "text/plain": [
       "<Figure size 1000x600 with 1 Axes>"
      ]
     },
     "metadata": {},
     "output_type": "display_data"
    }
   ],
   "source": [
    "#plotting the predicted and actual values to see how good the model is\n",
    "plt.figure(figsize=(10,6))\n",
    "plt.plot(y_predicted,'r',label='predicted price')\n",
    "plt.plot(y,'g',label = 'Original Price')\n",
    "plt.xlabel(\"time\")\n",
    "plt.ylabel(\"price\")\n",
    "plt.legend()\n",
    "plt.show()"
   ]
  },
  {
   "cell_type": "code",
   "execution_count": 43,
   "id": "30acdbcf",
   "metadata": {},
   "outputs": [],
   "source": [
    "#saving the model\n",
    "model.save('Stock_prediction_model.keras')"
   ]
  },
  {
   "cell_type": "code",
   "execution_count": null,
   "id": "9e7591b0",
   "metadata": {},
   "outputs": [],
   "source": []
  },
  {
   "cell_type": "markdown",
   "metadata": {},
   "source": []
  },
  {
   "cell_type": "markdown",
   "id": "5c1d3bfd",
   "metadata": {},
   "source": []
  }
 ],
 "metadata": {
  "kernelspec": {
   "display_name": "Python 3 (ipykernel)",
   "language": "python",
   "name": "python3"
  },
  "language_info": {
   "codemirror_mode": {
    "name": "ipython",
    "version": 3
   },
   "file_extension": ".py",
   "mimetype": "text/x-python",
   "name": "python",
   "nbconvert_exporter": "python",
   "pygments_lexer": "ipython3",
   "version": "3.11.4"
  }
 },
 "nbformat": 4,
 "nbformat_minor": 5
}

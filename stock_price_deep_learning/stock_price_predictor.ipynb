{
 "cells": [
  {
   "cell_type": "code",
   "execution_count": 1,
   "id": "0e5723ff",
   "metadata": {},
   "outputs": [],
   "source": [
    "# Required libraries :\n",
    "# tensorflow\n",
    "# yfinance\n",
    "# matplotlib\n",
    "# pandas\n",
    "# numpy"
   ]
  },
  {
   "cell_type": "markdown",
   "id": "17edde9b",
   "metadata": {},
   "source": [
    "Install all the above mentioned libraries using <b>'pip'</b>. <br>\n",
    "For example to install <b>yfinance</b>, run : `pip install yfinance`    "
   ]
  },
  {
   "cell_type": "markdown",
   "id": "f302be5b",
   "metadata": {},
   "source": [
    "### Imports"
   ]
  },
  {
   "cell_type": "code",
   "execution_count": 2,
   "id": "ff5f48c7",
   "metadata": {},
   "outputs": [],
   "source": [
    "import numpy as np\n",
    "import pandas as pd\n",
    "import matplotlib.pyplot as plt\n",
    "import yfinance as yf\n",
    "from keras.layers import Dense, Dropout, LSTM\n",
    "from keras.models import Sequential\n",
    "from sklearn.preprocessing import MinMaxScaler"
   ]
  },
  {
   "cell_type": "markdown",
   "id": "c61288b7",
   "metadata": {},
   "source": [
    "### Deciding two things:\n",
    "1. the <b>dates</b> over which we want to collect the data\n",
    "2. the <b>stock symbol</b> for which we want to train the model"
   ]
  },
  {
   "cell_type": "code",
   "execution_count": 3,
   "id": "d48757d2",
   "metadata": {},
   "outputs": [],
   "source": [
    "# we chose the 'ITC' stock over the NSE market over a period of 10 years\n",
    "start = '2012-01-01'\n",
    "end = '2022-12-21'\n",
    "stock = 'ITC.NS' "
   ]
  },
  {
   "cell_type": "code",
   "execution_count": 4,
   "id": "5fcdab67",
   "metadata": {},
   "outputs": [
    {
     "name": "stdout",
     "output_type": "stream",
     "text": [
      "[*********************100%%**********************]  1 of 1 completed\n"
     ]
    }
   ],
   "source": [
    "#downloading the data\n",
    "data = yf.download(stock,start,end)"
   ]
  },
  {
   "cell_type": "markdown",
   "id": "50e564c1",
   "metadata": {},
   "source": [
    "### EDA"
   ]
  },
  {
   "cell_type": "code",
   "execution_count": 5,
   "id": "4808f187",
   "metadata": {
    "scrolled": false
   },
   "outputs": [
    {
     "data": {
      "text/html": [
       "<div>\n",
       "<style scoped>\n",
       "    .dataframe tbody tr th:only-of-type {\n",
       "        vertical-align: middle;\n",
       "    }\n",
       "\n",
       "    .dataframe tbody tr th {\n",
       "        vertical-align: top;\n",
       "    }\n",
       "\n",
       "    .dataframe thead th {\n",
       "        text-align: right;\n",
       "    }\n",
       "</style>\n",
       "<table border=\"1\" class=\"dataframe\">\n",
       "  <thead>\n",
       "    <tr style=\"text-align: right;\">\n",
       "      <th></th>\n",
       "      <th>Open</th>\n",
       "      <th>High</th>\n",
       "      <th>Low</th>\n",
       "      <th>Close</th>\n",
       "      <th>Adj Close</th>\n",
       "      <th>Volume</th>\n",
       "    </tr>\n",
       "    <tr>\n",
       "      <th>Date</th>\n",
       "      <th></th>\n",
       "      <th></th>\n",
       "      <th></th>\n",
       "      <th></th>\n",
       "      <th></th>\n",
       "      <th></th>\n",
       "    </tr>\n",
       "  </thead>\n",
       "  <tbody>\n",
       "    <tr>\n",
       "      <th>2018-06-28</th>\n",
       "      <td>262.000000</td>\n",
       "      <td>264.000000</td>\n",
       "      <td>259.000000</td>\n",
       "      <td>260.500000</td>\n",
       "      <td>215.898712</td>\n",
       "      <td>14637010</td>\n",
       "    </tr>\n",
       "    <tr>\n",
       "      <th>2017-03-14</th>\n",
       "      <td>266.200012</td>\n",
       "      <td>271.649994</td>\n",
       "      <td>265.200012</td>\n",
       "      <td>267.100006</td>\n",
       "      <td>213.988358</td>\n",
       "      <td>17821655</td>\n",
       "    </tr>\n",
       "    <tr>\n",
       "      <th>2022-07-11</th>\n",
       "      <td>293.000000</td>\n",
       "      <td>296.950012</td>\n",
       "      <td>292.049988</td>\n",
       "      <td>295.000000</td>\n",
       "      <td>288.641510</td>\n",
       "      <td>12352667</td>\n",
       "    </tr>\n",
       "    <tr>\n",
       "      <th>2020-07-15</th>\n",
       "      <td>196.350006</td>\n",
       "      <td>200.000000</td>\n",
       "      <td>194.500000</td>\n",
       "      <td>198.699997</td>\n",
       "      <td>176.464310</td>\n",
       "      <td>23776757</td>\n",
       "    </tr>\n",
       "    <tr>\n",
       "      <th>2015-12-28</th>\n",
       "      <td>215.133331</td>\n",
       "      <td>218.033340</td>\n",
       "      <td>214.966660</td>\n",
       "      <td>217.466660</td>\n",
       "      <td>173.254608</td>\n",
       "      <td>9082360</td>\n",
       "    </tr>\n",
       "    <tr>\n",
       "      <th>2021-10-14</th>\n",
       "      <td>253.250000</td>\n",
       "      <td>261.850006</td>\n",
       "      <td>250.350006</td>\n",
       "      <td>256.549988</td>\n",
       "      <td>239.727646</td>\n",
       "      <td>85406902</td>\n",
       "    </tr>\n",
       "    <tr>\n",
       "      <th>2013-05-08</th>\n",
       "      <td>224.500000</td>\n",
       "      <td>229.866669</td>\n",
       "      <td>222.899994</td>\n",
       "      <td>228.533340</td>\n",
       "      <td>172.720993</td>\n",
       "      <td>7133002</td>\n",
       "    </tr>\n",
       "    <tr>\n",
       "      <th>2020-12-18</th>\n",
       "      <td>213.100006</td>\n",
       "      <td>215.949997</td>\n",
       "      <td>209.750000</td>\n",
       "      <td>214.500000</td>\n",
       "      <td>190.496216</td>\n",
       "      <td>23775053</td>\n",
       "    </tr>\n",
       "    <tr>\n",
       "      <th>2015-04-24</th>\n",
       "      <td>228.000000</td>\n",
       "      <td>233.300003</td>\n",
       "      <td>227.433334</td>\n",
       "      <td>231.966660</td>\n",
       "      <td>181.181854</td>\n",
       "      <td>17318818</td>\n",
       "    </tr>\n",
       "    <tr>\n",
       "      <th>2019-03-26</th>\n",
       "      <td>295.000000</td>\n",
       "      <td>296.350006</td>\n",
       "      <td>291.049988</td>\n",
       "      <td>293.399994</td>\n",
       "      <td>243.165787</td>\n",
       "      <td>10763629</td>\n",
       "    </tr>\n",
       "  </tbody>\n",
       "</table>\n",
       "</div>"
      ],
      "text/plain": [
       "                  Open        High         Low       Close   Adj Close  \\\n",
       "Date                                                                     \n",
       "2018-06-28  262.000000  264.000000  259.000000  260.500000  215.898712   \n",
       "2017-03-14  266.200012  271.649994  265.200012  267.100006  213.988358   \n",
       "2022-07-11  293.000000  296.950012  292.049988  295.000000  288.641510   \n",
       "2020-07-15  196.350006  200.000000  194.500000  198.699997  176.464310   \n",
       "2015-12-28  215.133331  218.033340  214.966660  217.466660  173.254608   \n",
       "2021-10-14  253.250000  261.850006  250.350006  256.549988  239.727646   \n",
       "2013-05-08  224.500000  229.866669  222.899994  228.533340  172.720993   \n",
       "2020-12-18  213.100006  215.949997  209.750000  214.500000  190.496216   \n",
       "2015-04-24  228.000000  233.300003  227.433334  231.966660  181.181854   \n",
       "2019-03-26  295.000000  296.350006  291.049988  293.399994  243.165787   \n",
       "\n",
       "              Volume  \n",
       "Date                  \n",
       "2018-06-28  14637010  \n",
       "2017-03-14  17821655  \n",
       "2022-07-11  12352667  \n",
       "2020-07-15  23776757  \n",
       "2015-12-28   9082360  \n",
       "2021-10-14  85406902  \n",
       "2013-05-08   7133002  \n",
       "2020-12-18  23775053  \n",
       "2015-04-24  17318818  \n",
       "2019-03-26  10763629  "
      ]
     },
     "execution_count": 5,
     "metadata": {},
     "output_type": "execute_result"
    }
   ],
   "source": [
    "# create a new pandas dataframe using the data received from yfinance\n",
    "prices = pd.DataFrame(data)\n",
    "prices.sample(10)"
   ]
  },
  {
   "cell_type": "code",
   "execution_count": 6,
   "id": "d83664c1",
   "metadata": {},
   "outputs": [
    {
     "data": {
      "text/plain": [
       "Open         0\n",
       "High         0\n",
       "Low          0\n",
       "Close        0\n",
       "Adj Close    0\n",
       "Volume       0\n",
       "dtype: int64"
      ]
     },
     "execution_count": 6,
     "metadata": {},
     "output_type": "execute_result"
    }
   ],
   "source": [
    "#checking null values\n",
    "prices.isnull().sum()"
   ]
  },
  {
   "cell_type": "code",
   "execution_count": 7,
   "id": "43af5cff",
   "metadata": {},
   "outputs": [
    {
     "data": {
      "text/plain": [
       "(2705, 6)"
      ]
     },
     "execution_count": 7,
     "metadata": {},
     "output_type": "execute_result"
    }
   ],
   "source": [
    "prices.shape"
   ]
  },
  {
   "cell_type": "code",
   "execution_count": 8,
   "id": "637f8013",
   "metadata": {},
   "outputs": [],
   "source": [
    "#add a new row to indicate the indeces\n",
    "prices.reset_index(inplace=True)"
   ]
  },
  {
   "cell_type": "code",
   "execution_count": 9,
   "id": "937961a9",
   "metadata": {
    "scrolled": true
   },
   "outputs": [
    {
     "data": {
      "text/html": [
       "<div>\n",
       "<style scoped>\n",
       "    .dataframe tbody tr th:only-of-type {\n",
       "        vertical-align: middle;\n",
       "    }\n",
       "\n",
       "    .dataframe tbody tr th {\n",
       "        vertical-align: top;\n",
       "    }\n",
       "\n",
       "    .dataframe thead th {\n",
       "        text-align: right;\n",
       "    }\n",
       "</style>\n",
       "<table border=\"1\" class=\"dataframe\">\n",
       "  <thead>\n",
       "    <tr style=\"text-align: right;\">\n",
       "      <th></th>\n",
       "      <th>Date</th>\n",
       "      <th>Open</th>\n",
       "      <th>High</th>\n",
       "      <th>Low</th>\n",
       "      <th>Close</th>\n",
       "      <th>Adj Close</th>\n",
       "      <th>Volume</th>\n",
       "    </tr>\n",
       "  </thead>\n",
       "  <tbody>\n",
       "    <tr>\n",
       "      <th>846</th>\n",
       "      <td>2015-06-12</td>\n",
       "      <td>197.866669</td>\n",
       "      <td>200.100006</td>\n",
       "      <td>196.666672</td>\n",
       "      <td>198.366669</td>\n",
       "      <td>158.037704</td>\n",
       "      <td>8332143</td>\n",
       "    </tr>\n",
       "    <tr>\n",
       "      <th>1901</th>\n",
       "      <td>2019-09-25</td>\n",
       "      <td>255.100006</td>\n",
       "      <td>256.250000</td>\n",
       "      <td>242.699997</td>\n",
       "      <td>247.550003</td>\n",
       "      <td>209.096313</td>\n",
       "      <td>20597095</td>\n",
       "    </tr>\n",
       "    <tr>\n",
       "      <th>1180</th>\n",
       "      <td>2016-10-21</td>\n",
       "      <td>239.000000</td>\n",
       "      <td>241.149994</td>\n",
       "      <td>238.750000</td>\n",
       "      <td>240.149994</td>\n",
       "      <td>192.397247</td>\n",
       "      <td>10592011</td>\n",
       "    </tr>\n",
       "    <tr>\n",
       "      <th>1965</th>\n",
       "      <td>2019-12-31</td>\n",
       "      <td>238.550003</td>\n",
       "      <td>238.949997</td>\n",
       "      <td>237.399994</td>\n",
       "      <td>237.699997</td>\n",
       "      <td>200.776367</td>\n",
       "      <td>7142051</td>\n",
       "    </tr>\n",
       "    <tr>\n",
       "      <th>1982</th>\n",
       "      <td>2020-01-23</td>\n",
       "      <td>238.100006</td>\n",
       "      <td>238.750000</td>\n",
       "      <td>236.899994</td>\n",
       "      <td>237.899994</td>\n",
       "      <td>200.945312</td>\n",
       "      <td>6120434</td>\n",
       "    </tr>\n",
       "    <tr>\n",
       "      <th>2190</th>\n",
       "      <td>2020-11-23</td>\n",
       "      <td>192.000000</td>\n",
       "      <td>192.500000</td>\n",
       "      <td>188.649994</td>\n",
       "      <td>190.850006</td>\n",
       "      <td>169.492798</td>\n",
       "      <td>23180456</td>\n",
       "    </tr>\n",
       "    <tr>\n",
       "      <th>1695</th>\n",
       "      <td>2018-11-20</td>\n",
       "      <td>285.000000</td>\n",
       "      <td>286.649994</td>\n",
       "      <td>281.799988</td>\n",
       "      <td>283.850006</td>\n",
       "      <td>235.250854</td>\n",
       "      <td>7796633</td>\n",
       "    </tr>\n",
       "    <tr>\n",
       "      <th>2607</th>\n",
       "      <td>2022-07-28</td>\n",
       "      <td>304.899994</td>\n",
       "      <td>305.200012</td>\n",
       "      <td>302.399994</td>\n",
       "      <td>303.450012</td>\n",
       "      <td>296.909393</td>\n",
       "      <td>10839070</td>\n",
       "    </tr>\n",
       "    <tr>\n",
       "      <th>2214</th>\n",
       "      <td>2020-12-29</td>\n",
       "      <td>210.500000</td>\n",
       "      <td>213.500000</td>\n",
       "      <td>210.100006</td>\n",
       "      <td>211.550003</td>\n",
       "      <td>187.876312</td>\n",
       "      <td>26546469</td>\n",
       "    </tr>\n",
       "    <tr>\n",
       "      <th>892</th>\n",
       "      <td>2015-08-17</td>\n",
       "      <td>212.866669</td>\n",
       "      <td>213.199997</td>\n",
       "      <td>210.333328</td>\n",
       "      <td>211.266663</td>\n",
       "      <td>168.315079</td>\n",
       "      <td>4328919</td>\n",
       "    </tr>\n",
       "  </tbody>\n",
       "</table>\n",
       "</div>"
      ],
      "text/plain": [
       "           Date        Open        High         Low       Close   Adj Close  \\\n",
       "846  2015-06-12  197.866669  200.100006  196.666672  198.366669  158.037704   \n",
       "1901 2019-09-25  255.100006  256.250000  242.699997  247.550003  209.096313   \n",
       "1180 2016-10-21  239.000000  241.149994  238.750000  240.149994  192.397247   \n",
       "1965 2019-12-31  238.550003  238.949997  237.399994  237.699997  200.776367   \n",
       "1982 2020-01-23  238.100006  238.750000  236.899994  237.899994  200.945312   \n",
       "2190 2020-11-23  192.000000  192.500000  188.649994  190.850006  169.492798   \n",
       "1695 2018-11-20  285.000000  286.649994  281.799988  283.850006  235.250854   \n",
       "2607 2022-07-28  304.899994  305.200012  302.399994  303.450012  296.909393   \n",
       "2214 2020-12-29  210.500000  213.500000  210.100006  211.550003  187.876312   \n",
       "892  2015-08-17  212.866669  213.199997  210.333328  211.266663  168.315079   \n",
       "\n",
       "        Volume  \n",
       "846    8332143  \n",
       "1901  20597095  \n",
       "1180  10592011  \n",
       "1965   7142051  \n",
       "1982   6120434  \n",
       "2190  23180456  \n",
       "1695   7796633  \n",
       "2607  10839070  \n",
       "2214  26546469  \n",
       "892    4328919  "
      ]
     },
     "execution_count": 9,
     "metadata": {},
     "output_type": "execute_result"
    }
   ],
   "source": [
    "prices.sample(10)"
   ]
  },
  {
   "cell_type": "code",
   "execution_count": 10,
   "id": "540660b6",
   "metadata": {},
   "outputs": [
    {
     "data": {
      "text/plain": [
       "(2705, 7)"
      ]
     },
     "execution_count": 10,
     "metadata": {},
     "output_type": "execute_result"
    }
   ],
   "source": [
    "prices.shape"
   ]
  },
  {
   "cell_type": "markdown",
   "id": "0f4ddf6d",
   "metadata": {},
   "source": [
    "as we can see, a new column has been added and the <b>shape[1]</b> increased from *6* to *7*"
   ]
  },
  {
   "cell_type": "markdown",
   "id": "dde275fd",
   "metadata": {},
   "source": [
    "### Prediction strategy\n",
    "Our model will be trained to predict the price of a particular stock using the <b>moving average</b> of the same for the past *100* days.<br>\n",
    "This implies that the fluctuations in the last *100* days of the price will be studied and the price for the *101*st day will be predicted using that."
   ]
  },
  {
   "cell_type": "markdown",
   "id": "df2a2512",
   "metadata": {},
   "source": [
    "### Plotting the moving averages"
   ]
  },
  {
   "cell_type": "code",
   "execution_count": 11,
   "id": "aefc3546",
   "metadata": {},
   "outputs": [],
   "source": [
    "#calculating the moving average using rolling() function and finding the mean over a period of 100 days (window size =100)\n",
    "ma_100=prices.Close.rolling(100).mean()"
   ]
  },
  {
   "cell_type": "code",
   "execution_count": 12,
   "id": "ae8b4403",
   "metadata": {},
   "outputs": [
    {
     "data": {
      "image/png": "[encoded data removed]",
      "text/plain": [
       "<Figure size 800x400 with 1 Axes>"
      ]
     },
     "metadata": {},
     "output_type": "display_data"
    }
   ],
   "source": [
    "plt.figure(figsize=(8,4))\n",
    "plt.plot(ma_100,'r')\n",
    "plt.plot(prices['Close'],'b')\n",
    "plt.ylabel(\"Price (in Rupees)\")\n",
    "plt.xlabel(\"Days\")\n",
    "plt.show()"
   ]
  },
  {
   "cell_type": "code",
   "execution_count": 13,
   "id": "b5b784c1",
   "metadata": {},
   "outputs": [],
   "source": [
    "#Calculating the moving average of 200 days\n",
    "ma_200= prices['Close'].rolling(200).mean()"
   ]
  },
  {
   "cell_type": "code",
   "execution_count": 14,
   "id": "3b9bc362",
   "metadata": {},
   "outputs": [
    {
     "data": {
      "image/png": "[encoded data removed]",
      "text/plain": [
       "<Figure size 800x400 with 1 Axes>"
      ]
     },
     "metadata": {},
     "output_type": "display_data"
    }
   ],
   "source": [
    "plt.figure(figsize=(8,4))\n",
    "plt.plot(ma_100,'b')\n",
    "plt.plot(ma_200,'r')\n",
    "plt.plot(prices['Close'],'g')\n",
    "plt.ylabel(\"Price (in Rupees)\")\n",
    "plt.xlabel(\"Days\")\n",
    "plt.show()"
   ]
  },
  {
   "cell_type": "markdown",
   "id": "5975d23d",
   "metadata": {},
   "source": [
    "### Splitting the dataset into training and testing"
   ]
  },
  {
   "cell_type": "code",
   "execution_count": 15,
   "id": "44971682",
   "metadata": {},
   "outputs": [],
   "source": [
    "#adding the first 80% of the data values into training set and the rest 20% into test set\n",
    "data_train = prices['Close'][0:int(len(prices)*0.80)]\n",
    "data_test = prices['Close'][int(len(prices)*0.80):len(prices)]"
   ]
  },
  {
   "cell_type": "code",
   "execution_count": 16,
   "id": "ccd927c0",
   "metadata": {},
   "outputs": [
    {
     "data": {
      "text/plain": [
       "0    132.433334\n",
       "1    133.566666\n",
       "2    133.033340\n",
       "3    133.199997\n",
       "4    134.733337\n",
       "Name: Close, dtype: float64"
      ]
     },
     "execution_count": 16,
     "metadata": {},
     "output_type": "execute_result"
    }
   ],
   "source": [
    "#viewing the first 5 values of the \n",
    "data_train.head()"
   ]
  },
  {
   "cell_type": "code",
   "execution_count": 17,
   "id": "ef25d99b",
   "metadata": {},
   "outputs": [
    {
     "data": {
      "text/plain": [
       "2164    165.699997\n",
       "2165    168.250000\n",
       "2166    167.449997\n",
       "2167    167.649994\n",
       "2168    168.550003\n",
       "Name: Close, dtype: float64"
      ]
     },
     "execution_count": 17,
     "metadata": {},
     "output_type": "execute_result"
    }
   ],
   "source": [
    "data_test.head()"
   ]
  },
  {
   "cell_type": "code",
   "execution_count": 18,
   "id": "00904f75",
   "metadata": {},
   "outputs": [
    {
     "name": "stdout",
     "output_type": "stream",
     "text": [
      "(2164,) (541,)\n"
     ]
    }
   ],
   "source": [
    "print(data_train.shape,data_test.shape)"
   ]
  },
  {
   "cell_type": "code",
   "execution_count": 19,
   "id": "81a0d372",
   "metadata": {},
   "outputs": [],
   "source": [
    "#scaling down the training and test set values to lie b/w 0 and 1\n",
    "scaler = MinMaxScaler(feature_range=(0,1))"
   ]
  },
  {
   "cell_type": "code",
   "execution_count": 20,
   "id": "9fbca186",
   "metadata": {},
   "outputs": [
    {
     "data": {
      "text/plain": [
       "array([[132.43333435],\n",
       "       [133.56666565],\n",
       "       [133.03334045],\n",
       "       ...,\n",
       "       [170.1499939 ],\n",
       "       [167.80000305],\n",
       "       [165.05000305]])"
      ]
     },
     "execution_count": 20,
     "metadata": {},
     "output_type": "execute_result"
    }
   ],
   "source": [
    "#reshaping the training dataset to form a 2d array\n",
    "data_train = np.array(data_train)\n",
    "data_train=data_train.reshape(-1,1)\n",
    "data_train"
   ]
  },
  {
   "cell_type": "code",
   "execution_count": 21,
   "id": "2e3ab7c8",
   "metadata": {},
   "outputs": [],
   "source": [
    "data_train_scale = scaler.fit_transform(data_train)"
   ]
  },
  {
   "cell_type": "code",
   "execution_count": 22,
   "id": "d6f3e21e",
   "metadata": {},
   "outputs": [
    {
     "data": {
      "text/plain": [
       "array([[0.        ],\n",
       "       [0.0053951 ],\n",
       "       [0.00285627],\n",
       "       ...,\n",
       "       [0.17954614],\n",
       "       [0.16835926],\n",
       "       [0.15526818]])"
      ]
     },
     "execution_count": 22,
     "metadata": {},
     "output_type": "execute_result"
    }
   ],
   "source": [
    "data_train_scale"
   ]
  },
  {
   "cell_type": "code",
   "execution_count": 23,
   "id": "70356065",
   "metadata": {},
   "outputs": [
    {
     "data": {
      "text/plain": [
       "array([[165.69999695],\n",
       "       [168.25      ],\n",
       "       [167.44999695],\n",
       "       [167.6499939 ],\n",
       "       [168.55000305],\n",
       "       [170.75      ],\n",
       "       [168.55000305],\n",
       "       [167.19999695],\n",
       "       [165.5       ],\n",
       "       [163.8500061 ]])"
      ]
     },
     "execution_count": 23,
     "metadata": {},
     "output_type": "execute_result"
    }
   ],
   "source": [
    "data_test = np.array(data_test)\n",
    "data_test = data_test.reshape(-1,1)\n",
    "data_test[:10]"
   ]
  },
  {
   "cell_type": "code",
   "execution_count": 24,
   "id": "aac148b2",
   "metadata": {},
   "outputs": [],
   "source": [
    "data_test_scale = scaler.fit_transform(data_test)"
   ]
  },
  {
   "cell_type": "code",
   "execution_count": 25,
   "id": "867b6cd5",
   "metadata": {},
   "outputs": [
    {
     "data": {
      "text/plain": [
       "array([[0.00711198],\n",
       "       [0.014732  ],\n",
       "       [0.03175006],\n",
       "       [0.03022604],\n",
       "       [0.05537208],\n",
       "       [0.05130805],\n",
       "       [0.04546607],\n",
       "       [0.07366015],\n",
       "       [0.1089662 ],\n",
       "       [0.12268221]])"
      ]
     },
     "execution_count": 25,
     "metadata": {},
     "output_type": "execute_result"
    }
   ],
   "source": [
    "data_test_scale[10:20]"
   ]
  },
  {
   "cell_type": "markdown",
   "id": "7c10cc37",
   "metadata": {},
   "source": [
    "we take the data from past 100 days each time to predict the price of stock for the 101th day"
   ]
  },
  {
   "cell_type": "code",
   "execution_count": 26,
   "id": "41268b97",
   "metadata": {},
   "outputs": [],
   "source": [
    "x=[]\n",
    "y=[]\n",
    "for i in range(100,data_train_scale.shape[0]):\n",
    "    x.append(data_train_scale[i-100:i])\n",
    "    y.append(data_train_scale[i,0])"
   ]
  },
  {
   "cell_type": "markdown",
   "id": "2491053e",
   "metadata": {},
   "source": [
    "### Model Creation"
   ]
  },
  {
   "cell_type": "code",
   "execution_count": 27,
   "id": "b9b3fe61",
   "metadata": {},
   "outputs": [],
   "source": [
    "#will continue from here"
   ]
  },
  {
   "cell_type": "markdown",
   "id": "5c1d3bfd",
   "metadata": {},
   "source": []
  }
 ],
 "metadata": {
  "kernelspec": {
   "display_name": "Python 3 (ipykernel)",
   "language": "python",
   "name": "python3"
  },
  "language_info": {
   "codemirror_mode": {
    "name": "ipython",
    "version": 3
   },
   "file_extension": ".py",
   "mimetype": "text/x-python",
   "name": "python",
   "nbconvert_exporter": "python",
   "pygments_lexer": "ipython3",
   "version": "3.11.4"
  }
 },
 "nbformat": 4,
 "nbformat_minor": 5
}
